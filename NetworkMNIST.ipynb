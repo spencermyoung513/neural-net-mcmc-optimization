{
 "cells": [
  {
   "cell_type": "code",
   "execution_count": 1,
   "id": "cd789055",
   "metadata": {},
   "outputs": [],
   "source": [
    "import numpy as np\n",
    "from matplotlib import pyplot as plt\n",
    "from sklearn.metrics import mean_squared_error\n",
    "from sklearn.datasets import load_digits\n",
    "from sklearn.model_selection import train_test_split\n",
    "from mcmc_optimization import optimize_via_mcmc\n",
    "from models import LinearLayer\n",
    "from data_samplers import BatchSampler\n",
    "from proposal_generators import (\n",
    "    LinearLayerUnivariateNormalProposalGenerator,\n",
    "    LinearLayerMultivariateNormalProposalGenerator,\n",
    ")"
   ]
  },
  {
   "cell_type": "code",
   "execution_count": 2,
   "id": "6e2a2235",
   "metadata": {},
   "outputs": [
    {
     "data": {
      "text/plain": [
       "((1437, 64), (360, 64), (1437,), (360,))"
      ]
     },
     "execution_count": 2,
     "metadata": {},
     "output_type": "execute_result"
    }
   ],
   "source": [
    "digits_X, digits_y = load_digits(return_X_y=True)\n",
    "\n",
    "X_train, X_test, y_train, y_test = train_test_split(digits_X, digits_y, test_size=0.2)\n",
    "\n",
    "X_train.shape, X_test.shape, y_train.shape, y_test.shape"
   ]
  },
  {
   "cell_type": "code",
   "execution_count": null,
   "id": "b6777467",
   "metadata": {},
   "outputs": [],
   "source": [
    "#Initial Parameters\n",
    "w1 = np.random.normal(loc=0,scale=1.0,size=(30,64))\n",
    "b1 = np.random.normal(loc=0,scale=1.0,size=50)\n",
    "w2 = np.random.normal(loc=0,scale=1.0,size=(10,30))\n",
    "b2 = np.random.normal(loc=0,scale=1.0,size=10)"
   ]
  },
  {
   "cell_type": "code",
   "execution_count": null,
   "id": "3eb581fe",
   "metadata": {},
   "outputs": [],
   "source": [
    "data_sampler = BatchSampler(X=X_train, y=y_train)\n",
    "proposal_generator = TwoLayerNNGaussianProposalGenerator(scale=1.4,decay=1-1e-7)\n",
    "best_params, history = optimize_via_mcmc(TwoLayerNN, initial_params, data_sampler, proposal_generator, mean_squared_error)"
   ]
  }
 ],
 "metadata": {
  "kernelspec": {
   "display_name": "Python 3",
   "language": "python",
   "name": "python3"
  },
  "language_info": {
   "codemirror_mode": {
    "name": "ipython",
    "version": 3
   },
   "file_extension": ".py",
   "mimetype": "text/x-python",
   "name": "python",
   "nbconvert_exporter": "python",
   "pygments_lexer": "ipython3",
   "version": "3.8.8"
  }
 },
 "nbformat": 4,
 "nbformat_minor": 5
}
