{
 "cells": [
  {
   "cell_type": "code",
   "execution_count": 24,
   "metadata": {
    "id": "TxRxMrqUjezG"
   },
   "outputs": [],
   "source": [
    "import torch\n",
    "import torch.nn as nn\n",
    "import torch.optim as optim\n",
    "from torchvision import datasets, transforms\n",
    "from torch.utils.data import DataLoader\n",
    "import matplotlib.pyplot as plt\n",
    "from tqdm import tqdm\n",
    "from sklearn.datasets import load_digits\n",
    "from sklearn.model_selection import train_test_split\n",
    "\n",
    "import numpy as np\n",
    "#assert torch.cuda.is_available()"
   ]
  },
  {
   "cell_type": "code",
   "execution_count": 25,
   "metadata": {
    "colab": {
     "base_uri": "https://localhost:8080/"
    },
    "id": "zhEVfRU6jrIj",
    "outputId": "0c8290ef-62c6-4c0a-bed5-d0ae095c5727"
   },
   "outputs": [
    {
     "name": "stdout",
     "output_type": "stream",
     "text": [
      "Current Device being used: cuda:0\n"
     ]
    }
   ],
   "source": [
    "device = torch.device(\"cuda:0\" if torch.cuda.is_available() else \"cpu\")\n",
    "print(\"Current Device being used:\",device)"
   ]
  },
  {
   "cell_type": "code",
   "execution_count": 26,
   "metadata": {
    "colab": {
     "base_uri": "https://localhost:8080/"
    },
    "id": "BO6QHeRCkLI6",
    "outputId": "cf9a8bcb-f2dd-4615-896c-b5af51011d9e"
   },
   "outputs": [
    {
     "data": {
      "text/plain": [
       "((1437, 64), (360, 64), (1437,), (360,))"
      ]
     },
     "execution_count": 26,
     "metadata": {},
     "output_type": "execute_result"
    }
   ],
   "source": [
    "transform = transforms.Compose([transforms.ToTensor()])\n",
    "digits_X, digits_y = load_digits(return_X_y=True)\n",
    "X_train, X_test, y_train, y_test = train_test_split(digits_X, digits_y, test_size=0.2)\n",
    "X_train.shape, X_test.shape, y_train.shape, y_test.shape"
   ]
  },
  {
   "cell_type": "code",
   "execution_count": 49,
   "metadata": {
    "id": "5TUQQswonXPm"
   },
   "outputs": [],
   "source": [
    "train_data = [(torch.tensor(X_train[i],dtype=torch.float32),y_train[i]) for i in range(len(y_train))]\n",
    "test_data = [(torch.tensor(X_test[i],dtype=torch.float32),y_test[i]) for i in range(len(y_test))]"
   ]
  },
  {
   "cell_type": "code",
   "execution_count": 50,
   "metadata": {
    "id": "UfnWCmIGkWs2"
   },
   "outputs": [],
   "source": [
    "actual_train_data = [train_data[i] for i in range(1000)] #Split into Test/train\n",
    "val_data = [train_data[i] for i in range(1000,1437)]"
   ]
  },
  {
   "cell_type": "code",
   "execution_count": 51,
   "metadata": {
    "id": "Ez4ud2_SkySP"
   },
   "outputs": [],
   "source": [
    "train_loader = DataLoader(actual_train_data,batch_size=32,shuffle=True)\n",
    "val_loader = DataLoader(val_data,batch_size=32,shuffle=False)\n",
    "test_loader = DataLoader(test_data,batch_size=1,shuffle=False)"
   ]
  },
  {
   "cell_type": "code",
   "execution_count": 56,
   "metadata": {
    "id": "_NRzg9Gbkzm4"
   },
   "outputs": [],
   "source": [
    "class TwoLayerNN(nn.Module):\n",
    "    def __init__(self):\n",
    "        super().__init__()\n",
    "        self.flatten = nn.Flatten()\n",
    "        self.l1 = nn.Linear(64,30)\n",
    "        self.l2 = nn.Linear(30,10)\n",
    "        self.relu = nn.ReLU()\n",
    "        self.softmax = nn.Softmax(dim=1)\n",
    "\n",
    "    def forward(self,x):\n",
    "        x = self.flatten(x)\n",
    "        out1 = self.relu(self.l1(x))\n",
    "        out2 = self.softmax(self.l2(out1))\n",
    "        return out2"
   ]
  },
  {
   "cell_type": "code",
   "execution_count": 91,
   "metadata": {
    "id": "Ziq8xTifloZc"
   },
   "outputs": [],
   "source": [
    "model = TwoLayerNN().to(device)"
   ]
  },
  {
   "cell_type": "code",
   "execution_count": 92,
   "metadata": {
    "colab": {
     "base_uri": "https://localhost:8080/"
    },
    "id": "7wBbBhrKlse0",
    "outputId": "ce8be9f1-1202-487d-e515-fc09c6e3ab72"
   },
   "outputs": [
    {
     "name": "stdout",
     "output_type": "stream",
     "text": [
      "The total amount of parameters in the model that can be trained is: 2260\n"
     ]
    }
   ],
   "source": [
    "total_params = sum(p.numel() for p in model.parameters() if p.requires_grad) #I got this off of stack exchange\n",
    "print(\"The total amount of parameters in the model that can be trained is:\",total_params)"
   ]
  },
  {
   "cell_type": "code",
   "execution_count": 95,
   "metadata": {
    "colab": {
     "base_uri": "https://localhost:8080/"
    },
    "id": "Xb4oDPmqlucR",
    "outputId": "f08aacef-b329-464b-9143-abac6a8fef7e"
   },
   "outputs": [
    {
     "name": "stderr",
     "output_type": "stream",
     "text": [
      "epoch:99, loss:1.4619: 100%|██████████| 3200/3200 [00:14<00:00, 223.52it/s]\n"
     ]
    },
    {
     "name": "stdout",
     "output_type": "stream",
     "text": [
      "Test Set Accuracy: 0.9694444537162781\n"
     ]
    }
   ],
   "source": [
    "loss_func = nn.CrossEntropyLoss()\n",
    "optimizer = optim.Adagrad(model.parameters(),lr=1e-2)\n",
    "\n",
    "num_epochs = 100\n",
    "loss_mean = []\n",
    "accuracy = []\n",
    "\n",
    "loop = tqdm(total=len(train_loader)*num_epochs,position=0)\n",
    "\n",
    "for epoch in range(num_epochs):\n",
    "    model.train()\n",
    "    loss_list = []\n",
    "    for images,targets in train_loader: #This is the train loop\n",
    "        images,targets = images.to(device),targets.to(device)\n",
    "        optimizer.zero_grad()\n",
    "        yhats = model(images)\n",
    "        loss = loss_func(yhats,targets)\n",
    "        loss_list.append(loss.item())\n",
    "        loss.backward() \n",
    "        optimizer.step()\n",
    "        loop.set_description('epoch:{}, loss:{:.4f}'.format(epoch,loss.item()))\n",
    "        loop.update()\n",
    "    loss_mean.append(np.mean(loss_list))\n",
    "\n",
    "    #Validate\n",
    "    model.eval()\n",
    "    accs = []\n",
    "    for images,targets in val_loader:\n",
    "        images,targets = images.to(device),targets.to(device)\n",
    "        yhats = model(images)\n",
    "        accs.append((torch.sum(torch.argmax(yhats,dim=1)==targets)/len(targets)).item())\n",
    "    accuracy.append(np.mean(accs))\n",
    "loop.close()\n",
    "\n",
    "accuracies = []\n",
    "model.eval()\n",
    "for images,targets in test_loader:\n",
    "    images,targets = images.to(device),targets.to(device)\n",
    "    yhats = model(images)\n",
    "    accuracies.append((torch.sum(torch.argmax(yhats,dim=1)==targets)/len(targets)).item())\n",
    "print(\"Test Set Accuracy:\",torch.mean(torch.tensor(accuracies)).item())"
   ]
  },
  {
   "cell_type": "code",
   "execution_count": 96,
   "metadata": {
    "colab": {
     "base_uri": "https://localhost:8080/",
     "height": 489
    },
    "id": "ElfD_DtUmJEQ",
    "outputId": "b2b5ae8a-f958-4e80-c21e-a8651eeebbeb"
   },
   "outputs": [
    {
     "data": {
      "text/plain": [
       "Text(0, 0.5, 'Accuracy')"
      ]
     },
     "execution_count": 96,
     "metadata": {},
     "output_type": "execute_result"
    },
    {
     "data": {
      "image/png": "[encoded data removed]",
      "text/plain": [
       "<Figure size 640x480 with 2 Axes>"
      ]
     },
     "metadata": {},
     "output_type": "display_data"
    }
   ],
   "source": [
    "fig,ax = plt.subplots(1,2)\n",
    "ax[0].plot(loss_mean)\n",
    "ax[0].set_title(\"Mean Losses Per Epoch\")\n",
    "ax[0].set_xlabel(\"Epoch\")\n",
    "ax[0].set_ylabel(\"Loss\")\n",
    "ax[1].plot(accuracy)\n",
    "ax[1].set_title(\"Validation Accuracy\")\n",
    "ax[1].set_xlabel(\"Epoch\")\n",
    "ax[1].set_ylabel(\"Accuracy\")"
   ]
  },
  {
   "cell_type": "code",
   "execution_count": 100,
   "metadata": {
    "colab": {
     "base_uri": "https://localhost:8080/"
    },
    "id": "d7AiVNLomZj3",
    "outputId": "00b39c39-2c5d-4ec3-ff42-0556dd15bfe8"
   },
   "outputs": [
    {
     "name": "stdout",
     "output_type": "stream",
     "text": [
      "Parameter containing:\n",
      "tensor([[-0.0877, -0.1384, -0.0033,  ...,  0.1513,  0.1288,  0.0591],\n",
      "        [-0.0065,  0.1813,  0.1544,  ...,  0.0499,  0.0177,  0.2654],\n",
      "        [-0.0431, -0.2317, -0.1261,  ...,  0.0611,  0.0333,  0.0476],\n",
      "        ...,\n",
      "        [-0.0682,  0.0932, -0.0060,  ...,  0.0259, -0.1104,  0.0205],\n",
      "        [ 0.0582,  0.1229,  0.1150,  ..., -0.1353, -0.0670, -0.0525],\n",
      "        [ 0.0078, -0.0215,  0.0313,  ...,  0.0861,  0.0338, -0.1205]],\n",
      "       device='cuda:0', requires_grad=True)\n",
      "Parameter containing:\n",
      "tensor([[ 0.0036, -0.1117, -0.1650, -0.3003,  0.1368,  0.2147, -0.2471,  0.1627,\n",
      "         -0.4154, -0.3811,  0.1319, -0.0930,  0.0144,  0.0346, -0.1022, -0.1594,\n",
      "          0.0405, -0.1751, -0.1164,  0.0192,  0.1586,  0.0882,  0.2422,  0.2599,\n",
      "          0.1811, -0.2913, -0.1285,  0.0843, -0.2067,  0.1059],\n",
      "        [ 0.0642,  0.2511,  0.1930, -0.0590,  0.1848,  0.0745, -0.3333, -0.2012,\n",
      "         -0.1127, -0.1284,  0.0732, -0.1668,  0.1749, -0.2114, -0.1233, -0.0802,\n",
      "          0.0928,  0.1493,  0.2314,  0.0546, -0.1646,  0.3166,  0.2023, -0.2352,\n",
      "         -0.1035,  0.2380, -0.2913, -0.1627, -0.0661, -0.1310],\n",
      "        [ 0.2364,  0.2446, -0.0373, -0.0850, -0.2498, -0.2175, -0.1124,  0.1858,\n",
      "         -0.0127, -0.0241, -0.1477, -0.1725,  0.0680, -0.2312, -0.0338,  0.0385,\n",
      "          0.0386,  0.1087, -0.3623,  0.1614,  0.0034, -0.0495, -0.1836,  0.1456,\n",
      "         -0.0163,  0.1112, -0.3003, -0.0354, -0.4072,  0.1767],\n",
      "        [-0.1223, -0.3372, -0.3337, -0.0931,  0.0406,  0.0782, -0.0260,  0.0448,\n",
      "          0.2187, -0.1382, -0.1964, -0.2999,  0.1089,  0.1375,  0.0127,  0.1159,\n",
      "          0.0573,  0.2718,  0.2270,  0.0578,  0.0689, -0.2592, -0.0382,  0.0255,\n",
      "         -0.1244, -0.0527,  0.0419,  0.1023,  0.0275,  0.2551],\n",
      "        [-0.1731,  0.0347,  0.2437, -0.2785,  0.2305, -0.1249,  0.0076, -0.1148,\n",
      "         -0.1494,  0.1970,  0.2735,  0.2233,  0.1162, -0.1441, -0.3923,  0.0029,\n",
      "         -0.2710, -0.0680,  0.0253, -0.1858, -0.0516, -0.0044, -0.0084, -0.1458,\n",
      "          0.1729, -0.0254, -0.0890, -0.0373, -0.2596, -0.3506],\n",
      "        [-0.2535,  0.1240,  0.0087,  0.0358,  0.1345, -0.0447,  0.2238, -0.2382,\n",
      "         -0.1777, -0.2293,  0.0243, -0.2678,  0.0790,  0.2567,  0.2343,  0.0311,\n",
      "          0.2446, -0.0551,  0.0651, -0.0747,  0.0479,  0.0126,  0.1362,  0.1947,\n",
      "          0.0582, -0.2325,  0.0042, -0.0146,  0.1499, -0.1538],\n",
      "        [-0.2291, -0.0499,  0.1775, -0.2208, -0.0106,  0.0803,  0.0294,  0.0500,\n",
      "         -0.1593, -0.0070,  0.0088,  0.0882, -0.1264,  0.0580,  0.1796, -0.0776,\n",
      "         -0.4082, -0.2034,  0.1917,  0.0498,  0.1042, -0.4391,  0.2243,  0.0715,\n",
      "         -0.0717,  0.0413,  0.2218, -0.0870, -0.2987,  0.0777],\n",
      "        [-0.0339,  0.1572, -0.0530,  0.0061, -0.0810,  0.2044, -0.2806, -0.2132,\n",
      "          0.1509,  0.1360,  0.0344,  0.1113, -0.0629, -0.0473, -0.0160, -0.0621,\n",
      "         -0.2428,  0.1069,  0.3340,  0.0962,  0.0829, -0.0064, -0.3399,  0.2261,\n",
      "          0.1768, -0.0879, -0.2573, -0.2708,  0.0239,  0.0442],\n",
      "        [-0.0381, -0.0965,  0.1467, -0.3472, -0.2284, -0.0443, -0.0889, -0.1160,\n",
      "          0.1775, -0.2559, -0.1167,  0.1629,  0.0234, -0.3665,  0.1608,  0.0760,\n",
      "         -0.4337, -0.1483, -0.1825, -0.0289,  0.0478,  0.1464,  0.1965, -0.0393,\n",
      "         -0.0675,  0.1758, -0.0862,  0.2364,  0.0473,  0.0047],\n",
      "        [ 0.2544, -0.2480, -0.0077,  0.1328,  0.0886,  0.2245,  0.2530, -0.2496,\n",
      "         -0.0732, -0.0294, -0.0761, -0.1716, -0.0625, -0.4243, -0.1387, -0.1355,\n",
      "         -0.1222, -0.2429,  0.0339,  0.1463,  0.0020, -0.1077,  0.1171,  0.1570,\n",
      "          0.0422, -0.2236, -0.1020,  0.1281,  0.1373,  0.1662]],\n",
      "       device='cuda:0', requires_grad=True)\n"
     ]
    }
   ],
   "source": [
    "print(model.l1.weight)\n",
    "\n",
    "print(model.l2.weight)"
   ]
  },
  {
   "cell_type": "code",
   "execution_count": null,
   "metadata": {
    "id": "Ymi1Mxq9rD_d"
   },
   "outputs": [],
   "source": []
  }
 ],
 "metadata": {
  "accelerator": "GPU",
  "colab": {
   "provenance": []
  },
  "gpuClass": "standard",
  "kernelspec": {
   "display_name": "Python 3",
   "language": "python",
   "name": "python3"
  },
  "language_info": {
   "codemirror_mode": {
    "name": "ipython",
    "version": 3
   },
   "file_extension": ".py",
   "mimetype": "text/x-python",
   "name": "python",
   "nbconvert_exporter": "python",
   "pygments_lexer": "ipython3",
   "version": "3.8.8"
  }
 },
 "nbformat": 4,
 "nbformat_minor": 1
}
