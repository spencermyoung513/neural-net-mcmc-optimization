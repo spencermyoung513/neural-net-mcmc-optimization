{
 "cells": [
  {
   "cell_type": "code",
   "execution_count": 56,
   "id": "cd789055",
   "metadata": {},
   "outputs": [],
   "source": [
    "import numpy as np\n",
    "from matplotlib import pyplot as plt\n",
    "from sklearn.metrics import mean_squared_error\n",
    "from sklearn.datasets import load_digits\n",
    "from sklearn.model_selection import train_test_split\n",
    "from mcmc_optimization import optimize_via_mcmc\n",
    "from models import TwoLayerNN\n",
    "from data_samplers import BatchSampler\n",
    "from proposal_generators import TwoLayerNNGaussianProposalGenerator, TwoLayerNNGibbsProposalGenerator\n",
    "from functions import cross_entropy_loss, softmax\n",
    "from time import time"
   ]
  },
  {
   "cell_type": "code",
   "execution_count": 57,
   "id": "6e2a2235",
   "metadata": {},
   "outputs": [
    {
     "data": {
      "text/plain": [
       "((1437, 64), (360, 64), (1437,), (360,))"
      ]
     },
     "execution_count": 57,
     "metadata": {},
     "output_type": "execute_result"
    }
   ],
   "source": [
    "digits_X, digits_y = load_digits(return_X_y=True)\n",
    "\n",
    "X_train, X_test, y_train, y_test = train_test_split(digits_X, digits_y, test_size=0.2)\n",
    "\n",
    "X_train.shape, X_test.shape, y_train.shape, y_test.shape"
   ]
  },
  {
   "cell_type": "code",
   "execution_count": 58,
   "id": "fca3afd2",
   "metadata": {},
   "outputs": [
    {
     "name": "stdout",
     "output_type": "stream",
     "text": [
      "64\n"
     ]
    }
   ],
   "source": [
    "print(len(X_train[0]))"
   ]
  },
  {
   "cell_type": "code",
   "execution_count": 59,
   "id": "b6777467",
   "metadata": {},
   "outputs": [],
   "source": [
    "# Initial Parameters\n",
    "\n",
    "intermediate_size1 = 30\n",
    "final_size = 10\n",
    "scale = 1.0\n",
    "w1 = np.random.normal(loc=0,scale=scale,size=(intermediate_size1,64))\n",
    "b1 = np.random.normal(loc=0,scale=scale,size=intermediate_size1)\n",
    "w2 = np.random.normal(loc=0,scale=scale,size=(final_size,intermediate_size1))\n",
    "b2 = np.random.normal(loc=0,scale=scale,size=final_size)\n",
    "\n",
    "initial_params = {'w1':w1,'b1':b1,'w2':w2,'b2':b2}"
   ]
  },
  {
   "cell_type": "code",
   "execution_count": 65,
   "id": "3eb581fe",
   "metadata": {},
   "outputs": [
    {
     "name": "stdout",
     "output_type": "stream",
     "text": [
      "34.066630840301514 sec\n"
     ]
    }
   ],
   "source": [
    "data_sampler = BatchSampler(X=X_train, y=y_train)\n",
    "#proposal_generator = TwoLayerNNGaussianProposalGenerator(scale=6,decay=1-1e-7)\n",
    "proposal_generator = TwoLayerNNGibbsProposalGenerator(pct_entries_to_change=0.2, scale=1, decay=1-1e-7)\n",
    "start = time()\n",
    "best_params, history = optimize_via_mcmc(TwoLayerNN, initial_params, data_sampler,\n",
    "                                         proposal_generator, cross_entropy_loss,\n",
    "                                         beta=95, num_iterations=10000, batch_size=64)\n",
    "time_elapsed = time() - start\n",
    "\n",
    "print(time_elapsed, 'sec')"
   ]
  },
  {
   "cell_type": "code",
   "execution_count": 66,
   "id": "24e5a7e9",
   "metadata": {},
   "outputs": [
    {
     "name": "stdout",
     "output_type": "stream",
     "text": [
      "Proportion of proposals accepted: 0.8390\n",
      "Best achieved loss: 1.7118\n"
     ]
    }
   ],
   "source": [
    "print(f\"Proportion of proposals accepted: {history['acceptance_ratio']:.4f}\")\n",
    "print(f\"Best achieved loss: {min(history['loss_values']):.4f}\")"
   ]
  },
  {
   "cell_type": "code",
   "execution_count": 67,
   "id": "e0f6368a",
   "metadata": {
    "scrolled": true
   },
   "outputs": [],
   "source": [
    "best_model = TwoLayerNN(best_params['w1'],best_params['b1'],best_params['w2'],best_params['b2'])"
   ]
  },
  {
   "cell_type": "code",
   "execution_count": 68,
   "id": "a82f59ed",
   "metadata": {},
   "outputs": [
    {
     "name": "stdout",
     "output_type": "stream",
     "text": [
      "0.5416666666666666\n"
     ]
    }
   ],
   "source": [
    "#Check the test set\n",
    "num_acc = 0\n",
    "for i,item in enumerate(X_test):\n",
    "    arg = np.argmax(best_model.forward(item))\n",
    "    if arg == y_test[i]:\n",
    "        num_acc += 1\n",
    "accuracy = num_acc/len(y_test)\n",
    "print(accuracy)"
   ]
  },
  {
   "cell_type": "code",
   "execution_count": 69,
   "id": "9b91a779",
   "metadata": {},
   "outputs": [
    {
     "data": {
      "image/png": "[encoded data removed]",
      "text/plain": [
       "<Figure size 432x288 with 1 Axes>"
      ]
     },
     "metadata": {
      "needs_background": "light"
     },
     "output_type": "display_data"
    }
   ],
   "source": [
    "plt.title(\"Computed Loss Values\")\n",
    "plt.plot(history['loss_values'])\n",
    "plt.ylabel(\"cross_entropy_loss\")\n",
    "plt.xlabel(\"Iteration\")\n",
    "plt.show()"
   ]
  },
  {
   "cell_type": "code",
   "execution_count": 71,
   "id": "9685bb0a",
   "metadata": {},
   "outputs": [
    {
     "name": "stdout",
     "output_type": "stream",
     "text": [
      "[[  -3.7490655    90.49051653   -3.08496698 ...   86.19383865\n",
      "    -5.08770102   36.66296365]\n",
      " [-108.412484     60.10215096   -9.49537872 ...    0.27133147\n",
      "   112.23050573  -49.89653447]\n",
      " [  67.66663976   16.9965143    53.12612156 ...   70.23174402\n",
      "    83.56169003   32.22190784]\n",
      " ...\n",
      " [  -1.1603961   -59.7588701    48.04019413 ...  -47.3835945\n",
      "   -74.14140487   23.60811597]\n",
      " [  25.48954951   16.84523516  -44.18057891 ...  103.83397139\n",
      "    45.27948075    1.10466063]\n",
      " [ -14.32833923   33.59578879   48.82289758 ...  -46.83210003\n",
      "    16.47239534   94.42559033]]\n"
     ]
    }
   ],
   "source": [
    "print(best_model.w1)"
   ]
  },
  {
   "cell_type": "code",
   "execution_count": null,
   "id": "81ac7e82",
   "metadata": {},
   "outputs": [],
   "source": [
    "#Need to regularize."
   ]
  }
 ],
 "metadata": {
  "kernelspec": {
   "display_name": "Python 3",
   "language": "python",
   "name": "python3"
  },
  "language_info": {
   "codemirror_mode": {
    "name": "ipython",
    "version": 3
   },
   "file_extension": ".py",
   "mimetype": "text/x-python",
   "name": "python",
   "nbconvert_exporter": "python",
   "pygments_lexer": "ipython3",
   "version": "3.8.8"
  }
 },
 "nbformat": 4,
 "nbformat_minor": 5
}
